{
 "cells": [
  {
   "cell_type": "code",
   "execution_count": 1,
   "metadata": {},
   "outputs": [
    {
     "name": "stdout",
     "output_type": "stream",
     "text": [
      "Enter valid input\n"
     ]
    }
   ],
   "source": [
    "original_number = '123'\n",
    "\n",
    "while True:\n",
    "    guess_number = str(input(\"Enter the number: \"))\n",
    "\n",
    "    if(len(original_number) != len(guess_number)):\n",
    "        print(f\"Enter {len(original_number)} valid input\")\n",
    "\n",
    "    if len(original_number) != len(set(guess_number)):\n",
    "        print(\"Duplicate Number\")\n",
    "\n",
    "    if(int(guess_number) - int(guess_number)) == 0:\n",
    "        print(\"Fermi\" * len(original_number))\n",
    "        print(\"You Won!\")\n",
    "\n",
    "    output = []\n",
    "    for i in range(len(original_number)):\n",
    "        for j in range(len(guess_number)):\n",
    "            if original_number[i] == original_number[j]:\n",
    "                if i == j:\n",
    "                    output.append('Fermi')\n",
    "                else:\n",
    "                    output.append('Pico')\n",
    "                    \n",
    "    output_string = ''\n",
    "\n",
    "    for item in output:\n",
    "        output_string += ' ' + item\n",
    "\n",
    "    print(output_string)\n",
    "\n",
    "    if(len(output)==0):\n",
    "        print('Bagel')\n",
    "    else:\n",
    "        print(output_string)\n",
    "    "
   ]
  }
 ],
 "metadata": {
  "kernelspec": {
   "display_name": "Python 3",
   "language": "python",
   "name": "python3"
  },
  "language_info": {
   "codemirror_mode": {
    "name": "ipython",
    "version": 3
   },
   "file_extension": ".py",
   "mimetype": "text/x-python",
   "name": "python",
   "nbconvert_exporter": "python",
   "pygments_lexer": "ipython3",
   "version": "3.7.0"
  }
 },
 "nbformat": 4,
 "nbformat_minor": 2
}
